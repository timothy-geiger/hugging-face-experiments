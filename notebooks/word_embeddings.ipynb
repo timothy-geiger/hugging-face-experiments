{
 "cells": [
  {
   "cell_type": "markdown",
   "id": "3c8dd7b8",
   "metadata": {},
   "source": [
    "## Imports"
   ]
  },
  {
   "cell_type": "code",
   "execution_count": 10,
   "id": "c324112c",
   "metadata": {},
   "outputs": [],
   "source": [
    "from gensim.models import Word2Vec\n",
    "from gensim.test.utils import datapath\n",
    "import gensim.downloader as api\n",
    "\n",
    "import multiprocessing"
   ]
  },
  {
   "cell_type": "markdown",
   "id": "23742eb4",
   "metadata": {},
   "source": [
    "## Load the dataset"
   ]
  },
  {
   "cell_type": "code",
   "execution_count": 24,
   "id": "c63c83a6",
   "metadata": {},
   "outputs": [],
   "source": [
    "# load the Text8-dataset\n",
    "dataset = api.load(\"text8\")"
   ]
  },
  {
   "cell_type": "markdown",
   "id": "5ec39db7",
   "metadata": {},
   "source": [
    "## Train the model"
   ]
  },
  {
   "cell_type": "code",
   "execution_count": 13,
   "id": "f7f55b47",
   "metadata": {},
   "outputs": [],
   "source": [
    "# get the number of cores\n",
    "num_processes = multiprocessing.Pool()._processes\n",
    "\n",
    "# train the Word2Vec-model\n",
    "model = Word2Vec(dataset, min_count=5, workers=num_processes)"
   ]
  },
  {
   "cell_type": "markdown",
   "id": "bddab7b1",
   "metadata": {},
   "source": [
    "## Get index from key"
   ]
  },
  {
   "cell_type": "code",
   "execution_count": 36,
   "id": "42aa2c55",
   "metadata": {},
   "outputs": [
    {
     "name": "stdout",
     "output_type": "stream",
     "text": [
      "word #0/71290 is: the\n",
      "word #1/71290 is: of\n",
      "word #2/71290 is: and\n",
      "word #3/71290 is: one\n",
      "word #4/71290 is: in\n",
      "word #5/71290 is: a\n",
      "word #6/71290 is: to\n",
      "word #7/71290 is: zero\n",
      "word #8/71290 is: nine\n",
      "word #9/71290 is: two\n"
     ]
    }
   ],
   "source": [
    "for index, word in enumerate(model.wv.index_to_key):\n",
    "    if index == 10:\n",
    "        break\n",
    "        \n",
    "    print(f\"word #{index}/{len(model.wv.index_to_key)} is: {word}\")"
   ]
  },
  {
   "cell_type": "markdown",
   "id": "4ce61680",
   "metadata": {},
   "source": [
    "## Get the word vector"
   ]
  },
  {
   "cell_type": "code",
   "execution_count": 39,
   "id": "558fba83",
   "metadata": {},
   "outputs": [
    {
     "name": "stdout",
     "output_type": "stream",
     "text": [
      "100\n",
      "[ 0.6099961   2.807867    2.06987     0.83153987  0.26194066  2.29551\n",
      "  0.02573501  1.4557197  -0.16459201  0.3859     -0.24922632 -2.8708599\n",
      "  2.2126596   4.1852174  -0.5333733  -0.1643643   0.83662015  1.104826\n",
      "  2.1866484   0.82956624 -1.2793326   0.61501837 -2.152865   -0.48138657\n",
      " -0.6696346   1.2233275  -0.37354955 -0.24445823  0.2144425  -0.66999483\n",
      "  1.9057432  -1.2599318  -0.4251985  -0.6840563   3.6047142  -1.1980398\n",
      "  1.3020844  -1.3659182  -0.7605614  -1.2023554  -0.67999476  2.2126727\n",
      "  1.6952603  -0.9444782  -2.3419273  -4.177555   -0.9417651   0.5004199\n",
      "  3.2611377  -0.80868864  4.3374867  -0.4358617  -0.02254349  3.465822\n",
      "  0.07535721 -1.7328625   2.1816294  -0.47624537  0.24411225 -1.5124265\n",
      "  0.46778315  0.38498572  0.89346856 -0.6038507   0.17813212 -0.70155334\n",
      " -2.4322836   1.297255    2.4208796  -1.8331443   2.7508209  -0.45999214\n",
      " -2.8364363  -3.1342063  -1.0767957  -0.5769557  -1.49582     2.299692\n",
      " -2.2343066   3.05936    -2.753236   -1.5379939  -0.2151284   3.1240952\n",
      " -1.0399743   3.53978     1.6280072  -0.5179251  -0.25473848 -2.426498\n",
      " -0.35165733  0.12921011 -0.42733273 -0.5997273   1.4319947   0.66995806\n",
      "  1.0579271   1.2053589  -0.8204431  -0.27624685]\n"
     ]
    }
   ],
   "source": [
    "king_vw = model.wv['king']\n",
    "\n",
    "print(len(king_vw))\n",
    "print(king_vw)"
   ]
  },
  {
   "cell_type": "markdown",
   "id": "6bac8dcb",
   "metadata": {},
   "source": [
    "## Similarity"
   ]
  },
  {
   "cell_type": "code",
   "execution_count": 40,
   "id": "2aef4023",
   "metadata": {},
   "outputs": [],
   "source": [
    "def get_similarity(w1, w2):\n",
    "    print('%r\\t%r\\t%.2f' % (w1, w2, model.wv.similarity(w1, w2)))"
   ]
  },
  {
   "cell_type": "code",
   "execution_count": 41,
   "id": "c082ef78",
   "metadata": {},
   "outputs": [
    {
     "name": "stdout",
     "output_type": "stream",
     "text": [
      "'car'\t'train'\t0.57\n"
     ]
    }
   ],
   "source": [
    "get_similarity('car', 'train')"
   ]
  },
  {
   "cell_type": "code",
   "execution_count": 44,
   "id": "e83ae980",
   "metadata": {},
   "outputs": [
    {
     "name": "stdout",
     "output_type": "stream",
     "text": [
      "'car'\t'art'\t-0.03\n"
     ]
    }
   ],
   "source": [
    "get_similarity('car', 'art')"
   ]
  },
  {
   "cell_type": "code",
   "execution_count": 51,
   "id": "6605f4e0",
   "metadata": {},
   "outputs": [
    {
     "name": "stdout",
     "output_type": "stream",
     "text": [
      "'person'\t'emotion'\t0.45\n"
     ]
    }
   ],
   "source": [
    "get_similarity('person', 'emotion')"
   ]
  },
  {
   "cell_type": "code",
   "execution_count": 14,
   "id": "d27d5625",
   "metadata": {},
   "outputs": [],
   "source": [
    "def find_similar_words(word):\n",
    "    similar_words = model.wv.most_similar(word)\n",
    "    print(f\"Similar words to '{word}':\")\n",
    "    \n",
    "    for word, similarity in similar_words:\n",
    "        print(word, similarity)"
   ]
  },
  {
   "cell_type": "code",
   "execution_count": 22,
   "id": "3110aaec",
   "metadata": {},
   "outputs": [
    {
     "name": "stdout",
     "output_type": "stream",
     "text": [
      "Similar words to 'game':\n",
      "games 0.8612557649612427\n",
      "gameplay 0.7024416327476501\n",
      "match 0.6732522249221802\n",
      "console 0.6679466366767883\n",
      "gurps 0.6583449244499207\n",
      "fps 0.6534695625305176\n",
      "multiplayer 0.6337052583694458\n",
      "card 0.6317827105522156\n",
      "craps 0.6222929358482361\n",
      "scoring 0.6219169497489929\n"
     ]
    }
   ],
   "source": [
    "find_similar_words('game')"
   ]
  },
  {
   "cell_type": "code",
   "execution_count": 56,
   "id": "e6c2cc2e",
   "metadata": {},
   "outputs": [
    {
     "data": {
      "text/plain": [
       "[('king', 0.665647566318512),\n",
       " ('kings', 0.5485600829124451),\n",
       " ('women', 0.545667290687561),\n",
       " ('queen', 0.5354700684547424)]"
      ]
     },
     "execution_count": 56,
     "metadata": {},
     "output_type": "execute_result"
    }
   ],
   "source": [
    "res = model.wv['king'] - model.wv['man'] + model.wv['women']\n",
    "model.wv.similar_by_vector(res)[:4]"
   ]
  }
 ],
 "metadata": {
  "kernelspec": {
   "display_name": "Python 3 (ipykernel)",
   "language": "python",
   "name": "python3"
  },
  "language_info": {
   "codemirror_mode": {
    "name": "ipython",
    "version": 3
   },
   "file_extension": ".py",
   "mimetype": "text/x-python",
   "name": "python",
   "nbconvert_exporter": "python",
   "pygments_lexer": "ipython3",
   "version": "3.10.13"
  }
 },
 "nbformat": 4,
 "nbformat_minor": 5
}
