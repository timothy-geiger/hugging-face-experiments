{
 "cells": [
  {
   "cell_type": "markdown",
   "id": "ee3114e8",
   "metadata": {},
   "source": [
    "# Audio Streaming\n",
    "\n",
    "## Import Libraries"
   ]
  },
  {
   "cell_type": "code",
   "execution_count": 2,
   "id": "300982d0",
   "metadata": {},
   "outputs": [],
   "source": [
    "from datasets import load_dataset\n",
    "import gradio as gr\n",
    "\n",
    "import librosa\n",
    "import matplotlib.pyplot as plt\n",
    "import librosa.display"
   ]
  },
  {
   "cell_type": "markdown",
   "id": "777431ec",
   "metadata": {},
   "source": [
    "## Stream Data"
   ]
  },
  {
   "cell_type": "code",
   "execution_count": 7,
   "id": "1e7a5efb",
   "metadata": {},
   "outputs": [
    {
     "name": "stderr",
     "output_type": "stream",
     "text": [
      "/Library/Frameworks/Python.framework/Versions/3.8/lib/python3.8/site-packages/datasets/load.py:1429: FutureWarning: The repository for PolyAI/minds14 contains custom code which must be executed to correctly load the dataset. You can inspect the repository content at https://hf.co/datasets/PolyAI/minds14\n",
      "You can avoid this message in future by passing the argument `trust_remote_code=True`.\n",
      "Passing `trust_remote_code=True` will be mandatory to load this dataset from the next major release of `datasets`.\n",
      "  warnings.warn(\n"
     ]
    },
    {
     "data": {
      "text/plain": [
       "IterableDatasetDict({\n",
       "    train: IterableDataset({\n",
       "        features: ['path', 'audio', 'transcription', 'english_transcription', 'intent_class', 'lang_id'],\n",
       "        n_shards: 1\n",
       "    })\n",
       "})"
      ]
     },
     "execution_count": 7,
     "metadata": {},
     "output_type": "execute_result"
    }
   ],
   "source": [
    "minds = load_dataset(\"PolyAI/minds14\", name=\"de-DE\", streaming=True)\n",
    "minds"
   ]
  },
  {
   "cell_type": "code",
   "execution_count": 8,
   "id": "58f8ed74",
   "metadata": {},
   "outputs": [
    {
     "data": {
      "text/plain": [
       "{'path': 'zip://de-DE~CASH_DEPOSIT/response_4.wav::zip://MInDS-14/audio.zip::https://huggingface.co/datasets/PolyAI/minds14/resolve/main/data/MInDS-14.zip',\n",
       " 'audio': {'path': 'zip://de-DE~CASH_DEPOSIT/response_4.wav::zip://MInDS-14/audio.zip::https://huggingface.co/datasets/PolyAI/minds14/resolve/main/data/MInDS-14.zip',\n",
       "  'array': array([0.        , 0.        , 0.        , ..., 0.00598145, 0.0045166 ,\n",
       "         0.00268555]),\n",
       "  'sampling_rate': 8000},\n",
       " 'transcription': 'ich möchte gerne Geld auf mein Konto einzahlen',\n",
       " 'english_transcription': 'I would like to deposit money into my account',\n",
       " 'intent_class': 7,\n",
       " 'lang_id': 1}"
      ]
     },
     "execution_count": 8,
     "metadata": {},
     "output_type": "execute_result"
    }
   ],
   "source": [
    "next(iter(minds[\"train\"]))"
   ]
  },
  {
   "cell_type": "code",
   "execution_count": 9,
   "id": "45171a9a",
   "metadata": {},
   "outputs": [
    {
     "data": {
      "text/plain": [
       "[{'path': 'zip://de-DE~CASH_DEPOSIT/response_4.wav::zip://MInDS-14/audio.zip::https://huggingface.co/datasets/PolyAI/minds14/resolve/main/data/MInDS-14.zip',\n",
       "  'audio': {'path': 'zip://de-DE~CASH_DEPOSIT/response_4.wav::zip://MInDS-14/audio.zip::https://huggingface.co/datasets/PolyAI/minds14/resolve/main/data/MInDS-14.zip',\n",
       "   'array': array([0.        , 0.        , 0.        , ..., 0.00598145, 0.0045166 ,\n",
       "          0.00268555]),\n",
       "   'sampling_rate': 8000},\n",
       "  'transcription': 'ich möchte gerne Geld auf mein Konto einzahlen',\n",
       "  'english_transcription': 'I would like to deposit money into my account',\n",
       "  'intent_class': 7,\n",
       "  'lang_id': 1},\n",
       " {'path': 'zip://de-DE~CASH_DEPOSIT/response_17.wav::zip://MInDS-14/audio.zip::https://huggingface.co/datasets/PolyAI/minds14/resolve/main/data/MInDS-14.zip',\n",
       "  'audio': {'path': 'zip://de-DE~CASH_DEPOSIT/response_17.wav::zip://MInDS-14/audio.zip::https://huggingface.co/datasets/PolyAI/minds14/resolve/main/data/MInDS-14.zip',\n",
       "   'array': array([0., 0., 0., ..., 0., 0., 0.]),\n",
       "   'sampling_rate': 8000},\n",
       "  'transcription': 'Hallo ich möchte fragen ob ich Geld auf mein Konto einzahlen kann oder halt wie kann ich das genau machen ich will Bargeld auf mein Konto einzahlen weil ich kann auch von einem Konto auf ein anderes Konto Geld überweisen',\n",
       "  'english_transcription': 'Hello I would like to ask if I can deposit money into my account or how can I do that exactly? I want to deposit cash into my account because I can also transfer money from one account to another',\n",
       "  'intent_class': 7,\n",
       "  'lang_id': 1}]"
      ]
     },
     "execution_count": 9,
     "metadata": {},
     "output_type": "execute_result"
    }
   ],
   "source": [
    "gigaspeech_head = minds[\"train\"].take(2)\n",
    "list(gigaspeech_head)"
   ]
  },
  {
   "cell_type": "code",
   "execution_count": null,
   "id": "00eaf976",
   "metadata": {},
   "outputs": [],
   "source": []
  }
 ],
 "metadata": {
  "kernelspec": {
   "display_name": "Python 3 (ipykernel)",
   "language": "python",
   "name": "python3"
  },
  "language_info": {
   "codemirror_mode": {
    "name": "ipython",
    "version": 3
   },
   "file_extension": ".py",
   "mimetype": "text/x-python",
   "name": "python",
   "nbconvert_exporter": "python",
   "pygments_lexer": "ipython3",
   "version": "3.8.10"
  }
 },
 "nbformat": 4,
 "nbformat_minor": 5
}
